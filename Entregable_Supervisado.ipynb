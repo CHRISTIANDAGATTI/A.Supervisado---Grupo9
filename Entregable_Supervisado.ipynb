{
  "cells": [
    {
      "cell_type": "markdown",
      "metadata": {
        "id": "view-in-github",
        "colab_type": "text"
      },
      "source": [
        "<a href=\"https://colab.research.google.com/github/CHRISTIANDAGATTI/A.Supervisado---Grupo9/blob/main/Entregable_Supervisado.ipynb\" target=\"_parent\"><img src=\"https://colab.research.google.com/assets/colab-badge.svg\" alt=\"Open In Colab\"/></a>"
      ]
    },
    {
      "cell_type": "markdown",
      "metadata": {
        "id": "DrAqchJogjMa"
      },
      "source": [
        "# **DiploDatos Kaggle Competition**"
      ]
    },
    {
      "cell_type": "markdown",
      "metadata": {
        "id": "cZywRVpDgjMe"
      },
      "source": [
        "Presentamos un código creado como ejemplo de base para la competición.\n",
        "\n",
        "Deben:\n",
        "\n",
        "- Explorar los datos y aprender de ellos.\n",
        "- Probar diferentes modelos y ver cuáles ajustan mejor dado los datos.\n",
        "- **Obtener una accuracy mejor que la que se presenta en este ejemplo.**\n",
        "- Tratar de obtener la accuracy más alta posible!\n",
        "- Discutir la elección de modelo.\n",
        "\n",
        "El análisis exploratorio y el preprocesamiento de los datos queda a libertad de cada grupo y no deben quedarse con este simple ejemplo."
      ]
    },
    {
      "cell_type": "markdown",
      "source": [
        "# **Librerías**"
      ],
      "metadata": {
        "id": "rdgoiAxt4VcC"
      }
    },
    {
      "cell_type": "code",
      "execution_count": 108,
      "metadata": {
        "id": "AgXieh-RgjMf"
      },
      "outputs": [],
      "source": [
        "import pandas as pd\n",
        "import numpy as np\n",
        "import matplotlib.pyplot as plt\n",
        "import seaborn as sns\n",
        "import missingno as msno\n",
        "\n",
        "from sklearn.preprocessing import StandardScaler, LabelEncoder\n",
        "from sklearn.impute import SimpleImputer\n",
        "from sklearn.model_selection import train_test_split, GridSearchCV, StratifiedKFold\n",
        "from sklearn.metrics import accuracy_score, ConfusionMatrixDisplay, classification_report\n",
        "\n",
        "from sklearn.tree import DecisionTreeClassifier"
      ]
    },
    {
      "cell_type": "code",
      "execution_count": 91,
      "metadata": {
        "id": "CFq7dLtOgjMh"
      },
      "outputs": [],
      "source": [
        "#Importamos archivo\n",
        "train = pd.read_csv('https://raw.githubusercontent.com/CHRISTIANDAGATTI/A.Supervisado---Grupo9/main/train.csv')\n"
      ]
    },
    {
      "cell_type": "code",
      "source": [
        "#Vista del archivo train\n",
        "train.head(2)"
      ],
      "metadata": {
        "colab": {
          "base_uri": "https://localhost:8080/",
          "height": 112
        },
        "id": "jCRISLNLQE02",
        "outputId": "1c481619-3234-42e9-b15a-9b3748c25a13"
      },
      "execution_count": 92,
      "outputs": [
        {
          "output_type": "execute_result",
          "data": {
            "text/plain": [
              "   PassengerId HomePlanet CryoSleep    Cabin  Destination   Age    VIP  \\\n",
              "0         3430     Europa     False  C/123/P  TRAPPIST-1e  57.0  False   \n",
              "1          669       Mars      True  F/126/S          NaN  18.0  False   \n",
              "\n",
              "   RoomService  FoodCourt  ShoppingMall    Spa  VRDeck            Name  \\\n",
              "0          0.0     3859.0          13.0  195.0  3874.0  Azhah Tronsive   \n",
              "1          0.0        0.0           0.0    0.0     0.0      Roswal Sha   \n",
              "\n",
              "   Transported  \n",
              "0            0  \n",
              "1            1  "
            ],
            "text/html": [
              "\n",
              "  <div id=\"df-3fc4464c-3d2b-44d3-b671-c0b3132105cd\">\n",
              "    <div class=\"colab-df-container\">\n",
              "      <div>\n",
              "<style scoped>\n",
              "    .dataframe tbody tr th:only-of-type {\n",
              "        vertical-align: middle;\n",
              "    }\n",
              "\n",
              "    .dataframe tbody tr th {\n",
              "        vertical-align: top;\n",
              "    }\n",
              "\n",
              "    .dataframe thead th {\n",
              "        text-align: right;\n",
              "    }\n",
              "</style>\n",
              "<table border=\"1\" class=\"dataframe\">\n",
              "  <thead>\n",
              "    <tr style=\"text-align: right;\">\n",
              "      <th></th>\n",
              "      <th>PassengerId</th>\n",
              "      <th>HomePlanet</th>\n",
              "      <th>CryoSleep</th>\n",
              "      <th>Cabin</th>\n",
              "      <th>Destination</th>\n",
              "      <th>Age</th>\n",
              "      <th>VIP</th>\n",
              "      <th>RoomService</th>\n",
              "      <th>FoodCourt</th>\n",
              "      <th>ShoppingMall</th>\n",
              "      <th>Spa</th>\n",
              "      <th>VRDeck</th>\n",
              "      <th>Name</th>\n",
              "      <th>Transported</th>\n",
              "    </tr>\n",
              "  </thead>\n",
              "  <tbody>\n",
              "    <tr>\n",
              "      <th>0</th>\n",
              "      <td>3430</td>\n",
              "      <td>Europa</td>\n",
              "      <td>False</td>\n",
              "      <td>C/123/P</td>\n",
              "      <td>TRAPPIST-1e</td>\n",
              "      <td>57.0</td>\n",
              "      <td>False</td>\n",
              "      <td>0.0</td>\n",
              "      <td>3859.0</td>\n",
              "      <td>13.0</td>\n",
              "      <td>195.0</td>\n",
              "      <td>3874.0</td>\n",
              "      <td>Azhah Tronsive</td>\n",
              "      <td>0</td>\n",
              "    </tr>\n",
              "    <tr>\n",
              "      <th>1</th>\n",
              "      <td>669</td>\n",
              "      <td>Mars</td>\n",
              "      <td>True</td>\n",
              "      <td>F/126/S</td>\n",
              "      <td>NaN</td>\n",
              "      <td>18.0</td>\n",
              "      <td>False</td>\n",
              "      <td>0.0</td>\n",
              "      <td>0.0</td>\n",
              "      <td>0.0</td>\n",
              "      <td>0.0</td>\n",
              "      <td>0.0</td>\n",
              "      <td>Roswal Sha</td>\n",
              "      <td>1</td>\n",
              "    </tr>\n",
              "  </tbody>\n",
              "</table>\n",
              "</div>\n",
              "      <button class=\"colab-df-convert\" onclick=\"convertToInteractive('df-3fc4464c-3d2b-44d3-b671-c0b3132105cd')\"\n",
              "              title=\"Convert this dataframe to an interactive table.\"\n",
              "              style=\"display:none;\">\n",
              "        \n",
              "  <svg xmlns=\"http://www.w3.org/2000/svg\" height=\"24px\"viewBox=\"0 0 24 24\"\n",
              "       width=\"24px\">\n",
              "    <path d=\"M0 0h24v24H0V0z\" fill=\"none\"/>\n",
              "    <path d=\"M18.56 5.44l.94 2.06.94-2.06 2.06-.94-2.06-.94-.94-2.06-.94 2.06-2.06.94zm-11 1L8.5 8.5l.94-2.06 2.06-.94-2.06-.94L8.5 2.5l-.94 2.06-2.06.94zm10 10l.94 2.06.94-2.06 2.06-.94-2.06-.94-.94-2.06-.94 2.06-2.06.94z\"/><path d=\"M17.41 7.96l-1.37-1.37c-.4-.4-.92-.59-1.43-.59-.52 0-1.04.2-1.43.59L10.3 9.45l-7.72 7.72c-.78.78-.78 2.05 0 2.83L4 21.41c.39.39.9.59 1.41.59.51 0 1.02-.2 1.41-.59l7.78-7.78 2.81-2.81c.8-.78.8-2.07 0-2.86zM5.41 20L4 18.59l7.72-7.72 1.47 1.35L5.41 20z\"/>\n",
              "  </svg>\n",
              "      </button>\n",
              "      \n",
              "  <style>\n",
              "    .colab-df-container {\n",
              "      display:flex;\n",
              "      flex-wrap:wrap;\n",
              "      gap: 12px;\n",
              "    }\n",
              "\n",
              "    .colab-df-convert {\n",
              "      background-color: #E8F0FE;\n",
              "      border: none;\n",
              "      border-radius: 50%;\n",
              "      cursor: pointer;\n",
              "      display: none;\n",
              "      fill: #1967D2;\n",
              "      height: 32px;\n",
              "      padding: 0 0 0 0;\n",
              "      width: 32px;\n",
              "    }\n",
              "\n",
              "    .colab-df-convert:hover {\n",
              "      background-color: #E2EBFA;\n",
              "      box-shadow: 0px 1px 2px rgba(60, 64, 67, 0.3), 0px 1px 3px 1px rgba(60, 64, 67, 0.15);\n",
              "      fill: #174EA6;\n",
              "    }\n",
              "\n",
              "    [theme=dark] .colab-df-convert {\n",
              "      background-color: #3B4455;\n",
              "      fill: #D2E3FC;\n",
              "    }\n",
              "\n",
              "    [theme=dark] .colab-df-convert:hover {\n",
              "      background-color: #434B5C;\n",
              "      box-shadow: 0px 1px 3px 1px rgba(0, 0, 0, 0.15);\n",
              "      filter: drop-shadow(0px 1px 2px rgba(0, 0, 0, 0.3));\n",
              "      fill: #FFFFFF;\n",
              "    }\n",
              "  </style>\n",
              "\n",
              "      <script>\n",
              "        const buttonEl =\n",
              "          document.querySelector('#df-3fc4464c-3d2b-44d3-b671-c0b3132105cd button.colab-df-convert');\n",
              "        buttonEl.style.display =\n",
              "          google.colab.kernel.accessAllowed ? 'block' : 'none';\n",
              "\n",
              "        async function convertToInteractive(key) {\n",
              "          const element = document.querySelector('#df-3fc4464c-3d2b-44d3-b671-c0b3132105cd');\n",
              "          const dataTable =\n",
              "            await google.colab.kernel.invokeFunction('convertToInteractive',\n",
              "                                                     [key], {});\n",
              "          if (!dataTable) return;\n",
              "\n",
              "          const docLinkHtml = 'Like what you see? Visit the ' +\n",
              "            '<a target=\"_blank\" href=https://colab.research.google.com/notebooks/data_table.ipynb>data table notebook</a>'\n",
              "            + ' to learn more about interactive tables.';\n",
              "          element.innerHTML = '';\n",
              "          dataTable['output_type'] = 'display_data';\n",
              "          await google.colab.output.renderOutput(dataTable, element);\n",
              "          const docLink = document.createElement('div');\n",
              "          docLink.innerHTML = docLinkHtml;\n",
              "          element.appendChild(docLink);\n",
              "        }\n",
              "      </script>\n",
              "    </div>\n",
              "  </div>\n",
              "  "
            ]
          },
          "metadata": {},
          "execution_count": 92
        }
      ]
    },
    {
      "cell_type": "markdown",
      "source": [
        "# **Análisis exploratorio**"
      ],
      "metadata": {
        "id": "BoiIA1qd4hCH"
      }
    },
    {
      "cell_type": "markdown",
      "source": [
        "Análisis exploratorio que nos permita tomar decisiones sobre las variabes a usar, transformaciones de variables, tratamiento de los datos faltantes, etc."
      ],
      "metadata": {
        "id": "7LoQ5Cp6CXE6"
      }
    },
    {
      "cell_type": "markdown",
      "source": [
        "**Dataset:**\n",
        "\n",
        "train.csv - Registros personales de dos tercios (~8700) de los pasajeros, que se utilizarán como datos de entrenamiento.\n",
        "\n",
        "\n",
        "**Features:**\n",
        "\n",
        "\n",
        "PassengerId: Un identificador para cada pasajero.\n",
        "\n",
        "HomePlanet: El planeta del cual partió el pasajero. Típicamente su planeta de residencia permanente.\n",
        "\n",
        "CryoSleep: Indica si el pasajero fue elegido a ser puesto en suspensión animada durante la duración del viaje. Los pasajeros en CryoSleep están confinados a sus cabinas.\n",
        "\n",
        "Cabin: El número de cabina en donde el pasajero se está quedando. Toma la forma piso/número/lado, donde el lado puede ser P por babor o por estribor.\n",
        "\n",
        "Destination: El destino en donde va a desembarcar el pasajero.\n",
        "\n",
        "Age: La edad del pasajero.\n",
        "\n",
        "VIP: Si el pasajero pagó por servicios VIP durante el viaje.\n",
        "\n",
        "RoomService, FoodCourt, ShoppingMall, Spa, VRDeck: Cantidad que el pasajero ha gastado en cada una de las comodidades de lujo del Spaceship Titanic.\n",
        "\n",
        "Name: El nombre y apellido de cada pasajero.\n",
        "\n",
        "Transported: Si el pasajero fue transportado a otra dimensión o no. Esta es la columna target , la columna a predecir."
      ],
      "metadata": {
        "id": "ybyQABbMxG5m"
      }
    },
    {
      "cell_type": "code",
      "source": [
        "#Analisis estadístico de cada variable\n",
        "print(train.shape)\n",
        "print(train.describe())"
      ],
      "metadata": {
        "colab": {
          "base_uri": "https://localhost:8080/"
        },
        "id": "cSGKSmpfDL6V",
        "outputId": "4bb23442-420b-4e7c-f74a-17d11dc40795"
      },
      "execution_count": 93,
      "outputs": [
        {
          "output_type": "stream",
          "name": "stdout",
          "text": [
            "(7823, 14)\n",
            "       PassengerId          Age   RoomService     FoodCourt  ShoppingMall  \\\n",
            "count  7823.000000  7661.000000   7669.000000   7668.000000   7635.000000   \n",
            "mean   4345.691039    28.879389    226.078237    455.643062    172.600393   \n",
            "std    2504.576803    14.461548    679.180148   1621.290107    597.923749   \n",
            "min       0.000000     0.000000      0.000000      0.000000      0.000000   \n",
            "25%    2182.500000    19.000000      0.000000      0.000000      0.000000   \n",
            "50%    4345.000000    27.000000      0.000000      0.000000      0.000000   \n",
            "75%    6515.500000    38.000000     44.000000     69.000000     28.000000   \n",
            "max    8692.000000    79.000000  14327.000000  29813.000000  23492.000000   \n",
            "\n",
            "                Spa        VRDeck  Transported  \n",
            "count   7665.000000   7654.000000  7823.000000  \n",
            "mean     305.023222    295.476744     0.506711  \n",
            "std     1133.423579   1093.485752     0.499987  \n",
            "min        0.000000      0.000000     0.000000  \n",
            "25%        0.000000      0.000000     0.000000  \n",
            "50%        0.000000      0.000000     1.000000  \n",
            "75%       58.000000     46.000000     1.000000  \n",
            "max    22408.000000  24133.000000     1.000000  \n"
          ]
        }
      ]
    },
    {
      "cell_type": "code",
      "source": [
        "# Contamos la existencia de nulos en cada variable\n",
        "print(train.isna().sum())"
      ],
      "metadata": {
        "colab": {
          "base_uri": "https://localhost:8080/"
        },
        "id": "y0oZfNwmRbym",
        "outputId": "899e3975-68f2-4bab-fbcf-fac3839b1ca1"
      },
      "execution_count": 94,
      "outputs": [
        {
          "output_type": "stream",
          "name": "stdout",
          "text": [
            "PassengerId       0\n",
            "HomePlanet      179\n",
            "CryoSleep       196\n",
            "Cabin           184\n",
            "Destination     160\n",
            "Age             162\n",
            "VIP             184\n",
            "RoomService     154\n",
            "FoodCourt       155\n",
            "ShoppingMall    188\n",
            "Spa             158\n",
            "VRDeck          169\n",
            "Name            184\n",
            "Transported       0\n",
            "dtype: int64\n"
          ]
        }
      ]
    },
    {
      "cell_type": "code",
      "source": [
        "#Conteo de valores únicos por variable\n",
        "train.nunique()"
      ],
      "metadata": {
        "colab": {
          "base_uri": "https://localhost:8080/"
        },
        "id": "m9r_EdF-3eP1",
        "outputId": "7f6e065b-1ccb-4b25-a17e-2a25bac467f5"
      },
      "execution_count": 95,
      "outputs": [
        {
          "output_type": "execute_result",
          "data": {
            "text/plain": [
              "PassengerId     7823\n",
              "HomePlanet         3\n",
              "CryoSleep          2\n",
              "Cabin           6009\n",
              "Destination        3\n",
              "Age               80\n",
              "VIP                2\n",
              "RoomService     1195\n",
              "FoodCourt       1400\n",
              "ShoppingMall    1045\n",
              "Spa             1238\n",
              "VRDeck          1229\n",
              "Name            7623\n",
              "Transported        2\n",
              "dtype: int64"
            ]
          },
          "metadata": {},
          "execution_count": 95
        }
      ]
    },
    {
      "cell_type": "code",
      "source": [
        "#Tipo de datos\n",
        "train.info()"
      ],
      "metadata": {
        "colab": {
          "base_uri": "https://localhost:8080/"
        },
        "id": "4AAiw5hG4NRN",
        "outputId": "bf059bfe-a3ba-436a-e10f-0993247706cd"
      },
      "execution_count": 96,
      "outputs": [
        {
          "output_type": "stream",
          "name": "stdout",
          "text": [
            "<class 'pandas.core.frame.DataFrame'>\n",
            "RangeIndex: 7823 entries, 0 to 7822\n",
            "Data columns (total 14 columns):\n",
            " #   Column        Non-Null Count  Dtype  \n",
            "---  ------        --------------  -----  \n",
            " 0   PassengerId   7823 non-null   int64  \n",
            " 1   HomePlanet    7644 non-null   object \n",
            " 2   CryoSleep     7627 non-null   object \n",
            " 3   Cabin         7639 non-null   object \n",
            " 4   Destination   7663 non-null   object \n",
            " 5   Age           7661 non-null   float64\n",
            " 6   VIP           7639 non-null   object \n",
            " 7   RoomService   7669 non-null   float64\n",
            " 8   FoodCourt     7668 non-null   float64\n",
            " 9   ShoppingMall  7635 non-null   float64\n",
            " 10  Spa           7665 non-null   float64\n",
            " 11  VRDeck        7654 non-null   float64\n",
            " 12  Name          7639 non-null   object \n",
            " 13  Transported   7823 non-null   int64  \n",
            "dtypes: float64(6), int64(2), object(6)\n",
            "memory usage: 855.8+ KB\n"
          ]
        }
      ]
    },
    {
      "cell_type": "code",
      "source": [
        "# % de campos duplicados\n",
        "print(f'Duplicados en archivo train: {train.duplicated().sum()}, ({np.round(100*train.duplicated().sum()/len(train),1)}%)')"
      ],
      "metadata": {
        "colab": {
          "base_uri": "https://localhost:8080/"
        },
        "id": "OwpZw4db6WDJ",
        "outputId": "568e137e-840e-4fe8-c7d6-c6166422fafa"
      },
      "execution_count": 97,
      "outputs": [
        {
          "output_type": "stream",
          "name": "stdout",
          "text": [
            "Duplicados en archivo train: 0, (0.0%)\n"
          ]
        }
      ]
    },
    {
      "cell_type": "code",
      "source": [
        "# Gráfico de etiquetas (Transportado: SI/NO)\n",
        "plt.figure(figsize=(6,6))\n",
        "train['Transported'].value_counts().plot.pie(explode=[0.1,0.1], autopct='%1.1f%%', textprops={'fontsize':16}).set_title(\"Target distribution\")"
      ],
      "metadata": {
        "colab": {
          "base_uri": "https://localhost:8080/",
          "height": 391
        },
        "id": "83dhtO4q8uHl",
        "outputId": "cc917e52-87f3-4ba3-ef9c-4f7f58d8f860"
      },
      "execution_count": 98,
      "outputs": [
        {
          "output_type": "execute_result",
          "data": {
            "text/plain": [
              "Text(0.5, 1.0, 'Target distribution')"
            ]
          },
          "metadata": {},
          "execution_count": 98
        },
        {
          "output_type": "display_data",
          "data": {
            "text/plain": [
              "<Figure size 432x432 with 1 Axes>"
            ],
            "image/png": "[encoded data removed]"
          },
          "metadata": {}
        }
      ]
    },
    {
      "cell_type": "markdown",
      "source": [
        "Observamos que las etiquetas (variable a predecir en el conjunto de entrenamiento) estan balanceadas, lo cual es bueno para nuestro objetivo."
      ],
      "metadata": {
        "id": "PM2gip-YFiGa"
      }
    },
    {
      "cell_type": "code",
      "source": [
        "# Histograma de frecuencias \"AGE\"\n",
        "plt.figure(figsize=(10,4))\n",
        "sns.histplot(data=train, x='Age', hue='Transported', binwidth=1, kde=True)\n",
        "\n",
        "plt.title('Age distribution')\n",
        "plt.xlabel('Age (years)')"
      ],
      "metadata": {
        "colab": {
          "base_uri": "https://localhost:8080/",
          "height": 312
        },
        "id": "lHjBclBp9kVF",
        "outputId": "5b04929c-1a28-481f-97fe-72c0666aad36"
      },
      "execution_count": 99,
      "outputs": [
        {
          "output_type": "execute_result",
          "data": {
            "text/plain": [
              "Text(0.5, 0, 'Age (years)')"
            ]
          },
          "metadata": {},
          "execution_count": 99
        },
        {
          "output_type": "display_data",
          "data": {
            "text/plain": [
              "<Figure size 720x288 with 1 Axes>"
            ],
            "image/png": "[encoded data removed]"
          },
          "metadata": {
            "needs_background": "light"
          }
        }
      ]
    },
    {
      "cell_type": "markdown",
      "source": [
        "De 0 a 18 años tenían más probabilidades de ser transportados que no.\n",
        "\n",
        "De 18 a 25 años tenían menos probabilidades de ser transportados que no.\n",
        "\n",
        "Desde 25 años tenían la misma probabilidad de ser transportados que los que no.\n",
        "\n",
        "A partir de este gráfico podemos inferir que sería adecuado crear una nueva característica que indique si el pasajero es niño, adolescente o adulto."
      ],
      "metadata": {
        "id": "OHKFh25i-Zk3"
      }
    },
    {
      "cell_type": "code",
      "source": [
        "# Variables categóricas\n",
        "cat_feats=['HomePlanet', 'CryoSleep', 'Destination', 'VIP']\n",
        "\n",
        "# Gráfico\n",
        "fig=plt.figure(figsize=(10,16))\n",
        "for i, var_name in enumerate(cat_feats):\n",
        "    ax=fig.add_subplot(4,1,i+1)\n",
        "    sns.countplot(data=train, x=var_name, axes=ax, hue='Transported')\n",
        "    ax.set_title(var_name)\n",
        "fig.tight_layout()\n",
        "plt.show()"
      ],
      "metadata": {
        "colab": {
          "base_uri": "https://localhost:8080/",
          "height": 1000
        },
        "id": "efZ7wqD6_aPp",
        "outputId": "9833bf87-b321-47b2-8819-443bc6efecc6"
      },
      "execution_count": 100,
      "outputs": [
        {
          "output_type": "display_data",
          "data": {
            "text/plain": [
              "<Figure size 720x1152 with 4 Axes>"
            ],
            "image/png": "[encoded data removed]"
          },
          "metadata": {
            "needs_background": "light"
          }
        }
      ]
    },
    {
      "cell_type": "markdown",
      "source": [
        "- VIP no parece ser una característica útil, ya que se observa practicamente la misma distribución para transportados y no transportados en ambas categorias VIP.\n",
        "\n",
        "- HomePlanet y Destination podrían estar relacionadas con nuestra variable objetivo.\n",
        "\n",
        "- CryoSleep parece ser una característica muy útil para nuestro objetivo."
      ],
      "metadata": {
        "id": "Hkw-kphlAHcD"
      }
    },
    {
      "cell_type": "markdown",
      "source": [
        "# **Curación**"
      ],
      "metadata": {
        "id": "Zw0AIiF54rYB"
      }
    },
    {
      "cell_type": "code",
      "source": [
        "#Columnas relevantes\n",
        "imputer_cols = [\"Age\", \"FoodCourt\", \"ShoppingMall\", \"Spa\", \"VRDeck\" ,\"RoomService\"]"
      ],
      "metadata": {
        "id": "y9YdHx6ezTZw"
      },
      "execution_count": 109,
      "outputs": []
    },
    {
      "cell_type": "code",
      "source": [
        "msno.matrix(train);"
      ],
      "metadata": {
        "colab": {
          "base_uri": "https://localhost:8080/",
          "height": 680
        },
        "id": "5g3pViHBH9AJ",
        "outputId": "0bbae6e3-ab00-41c5-c8eb-f1ff55f02b5f"
      },
      "execution_count": 110,
      "outputs": [
        {
          "output_type": "display_data",
          "data": {
            "text/plain": [
              "<Figure size 1800x720 with 2 Axes>"
            ],
            "image/png": "[encoded data removed]"
          },
          "metadata": {
            "needs_background": "light"
          }
        }
      ]
    },
    {
      "cell_type": "code",
      "source": [
        "# Imputamos los valores Nan con el valor medio de cada feature\n",
        "imputer = SimpleImputer(strategy=\"most_frequent\")\n",
        "train[imputer_cols] = imputer.fit_transform(train[imputer_cols])\n",
        "y = train.Transported\n",
        "X = train.drop('Transported',axis=1)\n",
        "X"
      ],
      "metadata": {
        "colab": {
          "base_uri": "https://localhost:8080/",
          "height": 455
        },
        "id": "DUCZBZ1BQBgb",
        "outputId": "b56a48a9-1b3f-4130-f518-1e9b7cc67397"
      },
      "execution_count": 111,
      "outputs": [
        {
          "output_type": "execute_result",
          "data": {
            "text/plain": [
              "            HomePlanet CryoSleep  Destination   Age    VIP  RoomService  \\\n",
              "PassengerId                                                               \n",
              "3430            Europa     False  TRAPPIST-1e  57.0  False          0.0   \n",
              "669               Mars      True          NaN  18.0  False          0.0   \n",
              "8430            Europa      True  TRAPPIST-1e  33.0    NaN          0.0   \n",
              "6463             Earth     False  TRAPPIST-1e  43.0  False        142.0   \n",
              "85               Earth     False  TRAPPIST-1e  19.0  False          0.0   \n",
              "...                ...       ...          ...   ...    ...          ...   \n",
              "6528              Mars     False  TRAPPIST-1e  12.0    NaN          0.0   \n",
              "2693             Earth     False  TRAPPIST-1e  44.0  False          0.0   \n",
              "8076              Mars      True  TRAPPIST-1e  55.0  False          0.0   \n",
              "3829             Earth     False  TRAPPIST-1e  15.0  False          0.0   \n",
              "7624            Europa      True  55 Cancri e  45.0  False          0.0   \n",
              "\n",
              "             FoodCourt  ShoppingMall    Spa  VRDeck               Name Piso  \\\n",
              "PassengerId                                                                   \n",
              "3430            3859.0          13.0  195.0  3874.0     Azhah Tronsive    C   \n",
              "669                0.0           0.0    0.0     0.0         Roswal Sha    F   \n",
              "8430               0.0           0.0    0.0     0.0  Shaiam Tinganking    B   \n",
              "6463            1208.0           0.0    0.0   204.0     Landa Grifford    F   \n",
              "85                 0.0         670.0    1.0    34.0     Gracy Dunnisey    G   \n",
              "...                ...           ...    ...     ...                ...  ...   \n",
              "6528               0.0           0.0    0.0     0.0        Risps Hacle    F   \n",
              "2693               0.0         744.0   62.0     3.0      Gabrie Reenez    G   \n",
              "8076               0.0           0.0    0.0     0.0       Panzel Ruity    F   \n",
              "3829             840.0         123.0    0.0    20.0    Belly Weavesend    E   \n",
              "7624               0.0           0.0    0.0     0.0  Graston Donotaked    B   \n",
              "\n",
              "            Número Lado  \n",
              "PassengerId              \n",
              "3430           123    P  \n",
              "669            126    S  \n",
              "8430           343    S  \n",
              "6463          1420    P  \n",
              "85               9    P  \n",
              "...            ...  ...  \n",
              "6528          1319    S  \n",
              "2693           459    S  \n",
              "8076          1772    P  \n",
              "3829           253    P  \n",
              "7624           270    P  \n",
              "\n",
              "[7823 rows x 14 columns]"
            ],
            "text/html": [
              "\n",
              "  <div id=\"df-892676cc-2e17-4d12-a1e8-dba6dc6eaf54\">\n",
              "    <div class=\"colab-df-container\">\n",
              "      <div>\n",
              "<style scoped>\n",
              "    .dataframe tbody tr th:only-of-type {\n",
              "        vertical-align: middle;\n",
              "    }\n",
              "\n",
              "    .dataframe tbody tr th {\n",
              "        vertical-align: top;\n",
              "    }\n",
              "\n",
              "    .dataframe thead th {\n",
              "        text-align: right;\n",
              "    }\n",
              "</style>\n",
              "<table border=\"1\" class=\"dataframe\">\n",
              "  <thead>\n",
              "    <tr style=\"text-align: right;\">\n",
              "      <th></th>\n",
              "      <th>HomePlanet</th>\n",
              "      <th>CryoSleep</th>\n",
              "      <th>Destination</th>\n",
              "      <th>Age</th>\n",
              "      <th>VIP</th>\n",
              "      <th>RoomService</th>\n",
              "      <th>FoodCourt</th>\n",
              "      <th>ShoppingMall</th>\n",
              "      <th>Spa</th>\n",
              "      <th>VRDeck</th>\n",
              "      <th>Name</th>\n",
              "      <th>Piso</th>\n",
              "      <th>Número</th>\n",
              "      <th>Lado</th>\n",
              "    </tr>\n",
              "    <tr>\n",
              "      <th>PassengerId</th>\n",
              "      <th></th>\n",
              "      <th></th>\n",
              "      <th></th>\n",
              "      <th></th>\n",
              "      <th></th>\n",
              "      <th></th>\n",
              "      <th></th>\n",
              "      <th></th>\n",
              "      <th></th>\n",
              "      <th></th>\n",
              "      <th></th>\n",
              "      <th></th>\n",
              "      <th></th>\n",
              "      <th></th>\n",
              "    </tr>\n",
              "  </thead>\n",
              "  <tbody>\n",
              "    <tr>\n",
              "      <th>3430</th>\n",
              "      <td>Europa</td>\n",
              "      <td>False</td>\n",
              "      <td>TRAPPIST-1e</td>\n",
              "      <td>57.0</td>\n",
              "      <td>False</td>\n",
              "      <td>0.0</td>\n",
              "      <td>3859.0</td>\n",
              "      <td>13.0</td>\n",
              "      <td>195.0</td>\n",
              "      <td>3874.0</td>\n",
              "      <td>Azhah Tronsive</td>\n",
              "      <td>C</td>\n",
              "      <td>123</td>\n",
              "      <td>P</td>\n",
              "    </tr>\n",
              "    <tr>\n",
              "      <th>669</th>\n",
              "      <td>Mars</td>\n",
              "      <td>True</td>\n",
              "      <td>NaN</td>\n",
              "      <td>18.0</td>\n",
              "      <td>False</td>\n",
              "      <td>0.0</td>\n",
              "      <td>0.0</td>\n",
              "      <td>0.0</td>\n",
              "      <td>0.0</td>\n",
              "      <td>0.0</td>\n",
              "      <td>Roswal Sha</td>\n",
              "      <td>F</td>\n",
              "      <td>126</td>\n",
              "      <td>S</td>\n",
              "    </tr>\n",
              "    <tr>\n",
              "      <th>8430</th>\n",
              "      <td>Europa</td>\n",
              "      <td>True</td>\n",
              "      <td>TRAPPIST-1e</td>\n",
              "      <td>33.0</td>\n",
              "      <td>NaN</td>\n",
              "      <td>0.0</td>\n",
              "      <td>0.0</td>\n",
              "      <td>0.0</td>\n",
              "      <td>0.0</td>\n",
              "      <td>0.0</td>\n",
              "      <td>Shaiam Tinganking</td>\n",
              "      <td>B</td>\n",
              "      <td>343</td>\n",
              "      <td>S</td>\n",
              "    </tr>\n",
              "    <tr>\n",
              "      <th>6463</th>\n",
              "      <td>Earth</td>\n",
              "      <td>False</td>\n",
              "      <td>TRAPPIST-1e</td>\n",
              "      <td>43.0</td>\n",
              "      <td>False</td>\n",
              "      <td>142.0</td>\n",
              "      <td>1208.0</td>\n",
              "      <td>0.0</td>\n",
              "      <td>0.0</td>\n",
              "      <td>204.0</td>\n",
              "      <td>Landa Grifford</td>\n",
              "      <td>F</td>\n",
              "      <td>1420</td>\n",
              "      <td>P</td>\n",
              "    </tr>\n",
              "    <tr>\n",
              "      <th>85</th>\n",
              "      <td>Earth</td>\n",
              "      <td>False</td>\n",
              "      <td>TRAPPIST-1e</td>\n",
              "      <td>19.0</td>\n",
              "      <td>False</td>\n",
              "      <td>0.0</td>\n",
              "      <td>0.0</td>\n",
              "      <td>670.0</td>\n",
              "      <td>1.0</td>\n",
              "      <td>34.0</td>\n",
              "      <td>Gracy Dunnisey</td>\n",
              "      <td>G</td>\n",
              "      <td>9</td>\n",
              "      <td>P</td>\n",
              "    </tr>\n",
              "    <tr>\n",
              "      <th>...</th>\n",
              "      <td>...</td>\n",
              "      <td>...</td>\n",
              "      <td>...</td>\n",
              "      <td>...</td>\n",
              "      <td>...</td>\n",
              "      <td>...</td>\n",
              "      <td>...</td>\n",
              "      <td>...</td>\n",
              "      <td>...</td>\n",
              "      <td>...</td>\n",
              "      <td>...</td>\n",
              "      <td>...</td>\n",
              "      <td>...</td>\n",
              "      <td>...</td>\n",
              "    </tr>\n",
              "    <tr>\n",
              "      <th>6528</th>\n",
              "      <td>Mars</td>\n",
              "      <td>False</td>\n",
              "      <td>TRAPPIST-1e</td>\n",
              "      <td>12.0</td>\n",
              "      <td>NaN</td>\n",
              "      <td>0.0</td>\n",
              "      <td>0.0</td>\n",
              "      <td>0.0</td>\n",
              "      <td>0.0</td>\n",
              "      <td>0.0</td>\n",
              "      <td>Risps Hacle</td>\n",
              "      <td>F</td>\n",
              "      <td>1319</td>\n",
              "      <td>S</td>\n",
              "    </tr>\n",
              "    <tr>\n",
              "      <th>2693</th>\n",
              "      <td>Earth</td>\n",
              "      <td>False</td>\n",
              "      <td>TRAPPIST-1e</td>\n",
              "      <td>44.0</td>\n",
              "      <td>False</td>\n",
              "      <td>0.0</td>\n",
              "      <td>0.0</td>\n",
              "      <td>744.0</td>\n",
              "      <td>62.0</td>\n",
              "      <td>3.0</td>\n",
              "      <td>Gabrie Reenez</td>\n",
              "      <td>G</td>\n",
              "      <td>459</td>\n",
              "      <td>S</td>\n",
              "    </tr>\n",
              "    <tr>\n",
              "      <th>8076</th>\n",
              "      <td>Mars</td>\n",
              "      <td>True</td>\n",
              "      <td>TRAPPIST-1e</td>\n",
              "      <td>55.0</td>\n",
              "      <td>False</td>\n",
              "      <td>0.0</td>\n",
              "      <td>0.0</td>\n",
              "      <td>0.0</td>\n",
              "      <td>0.0</td>\n",
              "      <td>0.0</td>\n",
              "      <td>Panzel Ruity</td>\n",
              "      <td>F</td>\n",
              "      <td>1772</td>\n",
              "      <td>P</td>\n",
              "    </tr>\n",
              "    <tr>\n",
              "      <th>3829</th>\n",
              "      <td>Earth</td>\n",
              "      <td>False</td>\n",
              "      <td>TRAPPIST-1e</td>\n",
              "      <td>15.0</td>\n",
              "      <td>False</td>\n",
              "      <td>0.0</td>\n",
              "      <td>840.0</td>\n",
              "      <td>123.0</td>\n",
              "      <td>0.0</td>\n",
              "      <td>20.0</td>\n",
              "      <td>Belly Weavesend</td>\n",
              "      <td>E</td>\n",
              "      <td>253</td>\n",
              "      <td>P</td>\n",
              "    </tr>\n",
              "    <tr>\n",
              "      <th>7624</th>\n",
              "      <td>Europa</td>\n",
              "      <td>True</td>\n",
              "      <td>55 Cancri e</td>\n",
              "      <td>45.0</td>\n",
              "      <td>False</td>\n",
              "      <td>0.0</td>\n",
              "      <td>0.0</td>\n",
              "      <td>0.0</td>\n",
              "      <td>0.0</td>\n",
              "      <td>0.0</td>\n",
              "      <td>Graston Donotaked</td>\n",
              "      <td>B</td>\n",
              "      <td>270</td>\n",
              "      <td>P</td>\n",
              "    </tr>\n",
              "  </tbody>\n",
              "</table>\n",
              "<p>7823 rows × 14 columns</p>\n",
              "</div>\n",
              "      <button class=\"colab-df-convert\" onclick=\"convertToInteractive('df-892676cc-2e17-4d12-a1e8-dba6dc6eaf54')\"\n",
              "              title=\"Convert this dataframe to an interactive table.\"\n",
              "              style=\"display:none;\">\n",
              "        \n",
              "  <svg xmlns=\"http://www.w3.org/2000/svg\" height=\"24px\"viewBox=\"0 0 24 24\"\n",
              "       width=\"24px\">\n",
              "    <path d=\"M0 0h24v24H0V0z\" fill=\"none\"/>\n",
              "    <path d=\"M18.56 5.44l.94 2.06.94-2.06 2.06-.94-2.06-.94-.94-2.06-.94 2.06-2.06.94zm-11 1L8.5 8.5l.94-2.06 2.06-.94-2.06-.94L8.5 2.5l-.94 2.06-2.06.94zm10 10l.94 2.06.94-2.06 2.06-.94-2.06-.94-.94-2.06-.94 2.06-2.06.94z\"/><path d=\"M17.41 7.96l-1.37-1.37c-.4-.4-.92-.59-1.43-.59-.52 0-1.04.2-1.43.59L10.3 9.45l-7.72 7.72c-.78.78-.78 2.05 0 2.83L4 21.41c.39.39.9.59 1.41.59.51 0 1.02-.2 1.41-.59l7.78-7.78 2.81-2.81c.8-.78.8-2.07 0-2.86zM5.41 20L4 18.59l7.72-7.72 1.47 1.35L5.41 20z\"/>\n",
              "  </svg>\n",
              "      </button>\n",
              "      \n",
              "  <style>\n",
              "    .colab-df-container {\n",
              "      display:flex;\n",
              "      flex-wrap:wrap;\n",
              "      gap: 12px;\n",
              "    }\n",
              "\n",
              "    .colab-df-convert {\n",
              "      background-color: #E8F0FE;\n",
              "      border: none;\n",
              "      border-radius: 50%;\n",
              "      cursor: pointer;\n",
              "      display: none;\n",
              "      fill: #1967D2;\n",
              "      height: 32px;\n",
              "      padding: 0 0 0 0;\n",
              "      width: 32px;\n",
              "    }\n",
              "\n",
              "    .colab-df-convert:hover {\n",
              "      background-color: #E2EBFA;\n",
              "      box-shadow: 0px 1px 2px rgba(60, 64, 67, 0.3), 0px 1px 3px 1px rgba(60, 64, 67, 0.15);\n",
              "      fill: #174EA6;\n",
              "    }\n",
              "\n",
              "    [theme=dark] .colab-df-convert {\n",
              "      background-color: #3B4455;\n",
              "      fill: #D2E3FC;\n",
              "    }\n",
              "\n",
              "    [theme=dark] .colab-df-convert:hover {\n",
              "      background-color: #434B5C;\n",
              "      box-shadow: 0px 1px 3px 1px rgba(0, 0, 0, 0.15);\n",
              "      filter: drop-shadow(0px 1px 2px rgba(0, 0, 0, 0.3));\n",
              "      fill: #FFFFFF;\n",
              "    }\n",
              "  </style>\n",
              "\n",
              "      <script>\n",
              "        const buttonEl =\n",
              "          document.querySelector('#df-892676cc-2e17-4d12-a1e8-dba6dc6eaf54 button.colab-df-convert');\n",
              "        buttonEl.style.display =\n",
              "          google.colab.kernel.accessAllowed ? 'block' : 'none';\n",
              "\n",
              "        async function convertToInteractive(key) {\n",
              "          const element = document.querySelector('#df-892676cc-2e17-4d12-a1e8-dba6dc6eaf54');\n",
              "          const dataTable =\n",
              "            await google.colab.kernel.invokeFunction('convertToInteractive',\n",
              "                                                     [key], {});\n",
              "          if (!dataTable) return;\n",
              "\n",
              "          const docLinkHtml = 'Like what you see? Visit the ' +\n",
              "            '<a target=\"_blank\" href=https://colab.research.google.com/notebooks/data_table.ipynb>data table notebook</a>'\n",
              "            + ' to learn more about interactive tables.';\n",
              "          element.innerHTML = '';\n",
              "          dataTable['output_type'] = 'display_data';\n",
              "          await google.colab.output.renderOutput(dataTable, element);\n",
              "          const docLink = document.createElement('div');\n",
              "          docLink.innerHTML = docLinkHtml;\n",
              "          element.appendChild(docLink);\n",
              "        }\n",
              "      </script>\n",
              "    </div>\n",
              "  </div>\n",
              "  "
            ]
          },
          "metadata": {},
          "execution_count": 111
        }
      ]
    },
    {
      "cell_type": "code",
      "source": [
        "# Indicamos que la columna Passengerld sea el índice\n",
        "train = train.set_index('PassengerId')\n",
        "train.head(2)"
      ],
      "metadata": {
        "colab": {
          "base_uri": "https://localhost:8080/",
          "height": 143
        },
        "id": "S7zVdBUMHizK",
        "outputId": "c5ec2219-5c1a-4fb4-e2f2-384970b99ae3"
      },
      "execution_count": 103,
      "outputs": [
        {
          "output_type": "execute_result",
          "data": {
            "text/plain": [
              "            HomePlanet CryoSleep    Cabin  Destination   Age    VIP  \\\n",
              "PassengerId                                                           \n",
              "3430            Europa     False  C/123/P  TRAPPIST-1e  57.0  False   \n",
              "669               Mars      True  F/126/S          NaN  18.0  False   \n",
              "\n",
              "             RoomService  FoodCourt  ShoppingMall    Spa  VRDeck  \\\n",
              "PassengerId                                                        \n",
              "3430                 0.0     3859.0          13.0  195.0  3874.0   \n",
              "669                  0.0        0.0           0.0    0.0     0.0   \n",
              "\n",
              "                       Name  Transported  \n",
              "PassengerId                               \n",
              "3430         Azhah Tronsive            0  \n",
              "669              Roswal Sha            1  "
            ],
            "text/html": [
              "\n",
              "  <div id=\"df-32ed805d-1506-44d9-a273-1b619f4c2f63\">\n",
              "    <div class=\"colab-df-container\">\n",
              "      <div>\n",
              "<style scoped>\n",
              "    .dataframe tbody tr th:only-of-type {\n",
              "        vertical-align: middle;\n",
              "    }\n",
              "\n",
              "    .dataframe tbody tr th {\n",
              "        vertical-align: top;\n",
              "    }\n",
              "\n",
              "    .dataframe thead th {\n",
              "        text-align: right;\n",
              "    }\n",
              "</style>\n",
              "<table border=\"1\" class=\"dataframe\">\n",
              "  <thead>\n",
              "    <tr style=\"text-align: right;\">\n",
              "      <th></th>\n",
              "      <th>HomePlanet</th>\n",
              "      <th>CryoSleep</th>\n",
              "      <th>Cabin</th>\n",
              "      <th>Destination</th>\n",
              "      <th>Age</th>\n",
              "      <th>VIP</th>\n",
              "      <th>RoomService</th>\n",
              "      <th>FoodCourt</th>\n",
              "      <th>ShoppingMall</th>\n",
              "      <th>Spa</th>\n",
              "      <th>VRDeck</th>\n",
              "      <th>Name</th>\n",
              "      <th>Transported</th>\n",
              "    </tr>\n",
              "    <tr>\n",
              "      <th>PassengerId</th>\n",
              "      <th></th>\n",
              "      <th></th>\n",
              "      <th></th>\n",
              "      <th></th>\n",
              "      <th></th>\n",
              "      <th></th>\n",
              "      <th></th>\n",
              "      <th></th>\n",
              "      <th></th>\n",
              "      <th></th>\n",
              "      <th></th>\n",
              "      <th></th>\n",
              "      <th></th>\n",
              "    </tr>\n",
              "  </thead>\n",
              "  <tbody>\n",
              "    <tr>\n",
              "      <th>3430</th>\n",
              "      <td>Europa</td>\n",
              "      <td>False</td>\n",
              "      <td>C/123/P</td>\n",
              "      <td>TRAPPIST-1e</td>\n",
              "      <td>57.0</td>\n",
              "      <td>False</td>\n",
              "      <td>0.0</td>\n",
              "      <td>3859.0</td>\n",
              "      <td>13.0</td>\n",
              "      <td>195.0</td>\n",
              "      <td>3874.0</td>\n",
              "      <td>Azhah Tronsive</td>\n",
              "      <td>0</td>\n",
              "    </tr>\n",
              "    <tr>\n",
              "      <th>669</th>\n",
              "      <td>Mars</td>\n",
              "      <td>True</td>\n",
              "      <td>F/126/S</td>\n",
              "      <td>NaN</td>\n",
              "      <td>18.0</td>\n",
              "      <td>False</td>\n",
              "      <td>0.0</td>\n",
              "      <td>0.0</td>\n",
              "      <td>0.0</td>\n",
              "      <td>0.0</td>\n",
              "      <td>0.0</td>\n",
              "      <td>Roswal Sha</td>\n",
              "      <td>1</td>\n",
              "    </tr>\n",
              "  </tbody>\n",
              "</table>\n",
              "</div>\n",
              "      <button class=\"colab-df-convert\" onclick=\"convertToInteractive('df-32ed805d-1506-44d9-a273-1b619f4c2f63')\"\n",
              "              title=\"Convert this dataframe to an interactive table.\"\n",
              "              style=\"display:none;\">\n",
              "        \n",
              "  <svg xmlns=\"http://www.w3.org/2000/svg\" height=\"24px\"viewBox=\"0 0 24 24\"\n",
              "       width=\"24px\">\n",
              "    <path d=\"M0 0h24v24H0V0z\" fill=\"none\"/>\n",
              "    <path d=\"M18.56 5.44l.94 2.06.94-2.06 2.06-.94-2.06-.94-.94-2.06-.94 2.06-2.06.94zm-11 1L8.5 8.5l.94-2.06 2.06-.94-2.06-.94L8.5 2.5l-.94 2.06-2.06.94zm10 10l.94 2.06.94-2.06 2.06-.94-2.06-.94-.94-2.06-.94 2.06-2.06.94z\"/><path d=\"M17.41 7.96l-1.37-1.37c-.4-.4-.92-.59-1.43-.59-.52 0-1.04.2-1.43.59L10.3 9.45l-7.72 7.72c-.78.78-.78 2.05 0 2.83L4 21.41c.39.39.9.59 1.41.59.51 0 1.02-.2 1.41-.59l7.78-7.78 2.81-2.81c.8-.78.8-2.07 0-2.86zM5.41 20L4 18.59l7.72-7.72 1.47 1.35L5.41 20z\"/>\n",
              "  </svg>\n",
              "      </button>\n",
              "      \n",
              "  <style>\n",
              "    .colab-df-container {\n",
              "      display:flex;\n",
              "      flex-wrap:wrap;\n",
              "      gap: 12px;\n",
              "    }\n",
              "\n",
              "    .colab-df-convert {\n",
              "      background-color: #E8F0FE;\n",
              "      border: none;\n",
              "      border-radius: 50%;\n",
              "      cursor: pointer;\n",
              "      display: none;\n",
              "      fill: #1967D2;\n",
              "      height: 32px;\n",
              "      padding: 0 0 0 0;\n",
              "      width: 32px;\n",
              "    }\n",
              "\n",
              "    .colab-df-convert:hover {\n",
              "      background-color: #E2EBFA;\n",
              "      box-shadow: 0px 1px 2px rgba(60, 64, 67, 0.3), 0px 1px 3px 1px rgba(60, 64, 67, 0.15);\n",
              "      fill: #174EA6;\n",
              "    }\n",
              "\n",
              "    [theme=dark] .colab-df-convert {\n",
              "      background-color: #3B4455;\n",
              "      fill: #D2E3FC;\n",
              "    }\n",
              "\n",
              "    [theme=dark] .colab-df-convert:hover {\n",
              "      background-color: #434B5C;\n",
              "      box-shadow: 0px 1px 3px 1px rgba(0, 0, 0, 0.15);\n",
              "      filter: drop-shadow(0px 1px 2px rgba(0, 0, 0, 0.3));\n",
              "      fill: #FFFFFF;\n",
              "    }\n",
              "  </style>\n",
              "\n",
              "      <script>\n",
              "        const buttonEl =\n",
              "          document.querySelector('#df-32ed805d-1506-44d9-a273-1b619f4c2f63 button.colab-df-convert');\n",
              "        buttonEl.style.display =\n",
              "          google.colab.kernel.accessAllowed ? 'block' : 'none';\n",
              "\n",
              "        async function convertToInteractive(key) {\n",
              "          const element = document.querySelector('#df-32ed805d-1506-44d9-a273-1b619f4c2f63');\n",
              "          const dataTable =\n",
              "            await google.colab.kernel.invokeFunction('convertToInteractive',\n",
              "                                                     [key], {});\n",
              "          if (!dataTable) return;\n",
              "\n",
              "          const docLinkHtml = 'Like what you see? Visit the ' +\n",
              "            '<a target=\"_blank\" href=https://colab.research.google.com/notebooks/data_table.ipynb>data table notebook</a>'\n",
              "            + ' to learn more about interactive tables.';\n",
              "          element.innerHTML = '';\n",
              "          dataTable['output_type'] = 'display_data';\n",
              "          await google.colab.output.renderOutput(dataTable, element);\n",
              "          const docLink = document.createElement('div');\n",
              "          docLink.innerHTML = docLinkHtml;\n",
              "          element.appendChild(docLink);\n",
              "        }\n",
              "      </script>\n",
              "    </div>\n",
              "  </div>\n",
              "  "
            ]
          },
          "metadata": {},
          "execution_count": 103
        }
      ]
    },
    {
      "cell_type": "markdown",
      "source": [
        "# **Transformación**"
      ],
      "metadata": {
        "id": "WjpL9FFY8Iri"
      }
    },
    {
      "cell_type": "markdown",
      "source": [
        "Tendremos que transformar los datos para que sean numéricos (int64 o float64) para que podamos entrenar modelos de aprendizaje automático, ya que en general no funcionan con texto."
      ],
      "metadata": {
        "id": "1EEYoqH9776U"
      }
    },
    {
      "cell_type": "code",
      "execution_count": 104,
      "metadata": {
        "id": "3TQyEf9SgjMi"
      },
      "outputs": [],
      "source": [
        "# # elijo y transformo algunas variables (en su análisis fundamente sus decisiones)\n",
        "# for var in X:\n",
        "#     if X[var].dtype == 'object':\n",
        "#         unique_cases = X[var].unique()\n",
        "#         if len(unique_cases) > 5:\n",
        "#             print(var)\n",
        "#             X.drop(var, inplace=True, axis=1)\n",
        "\n",
        "# passengerId = X.PassengerId\n",
        "# X.drop('PassengerId',axis=1,inplace=True)\n",
        "\n",
        "# print(X.columns)\n",
        "# label_cols = [\"HomePlanet\", \"CryoSleep\", \"Destination\" ,\"VIP\"]\n",
        "\n",
        "# for col in label_cols:\n",
        "#     X[col] = X[col].astype(str)\n",
        "#     X[col] = LabelEncoder().fit_transform(X[col])\n",
        "\n",
        "# x_names = X.columns\n",
        "# X = StandardScaler().fit_transform(X)\n",
        "# X = pd.DataFrame(X, columns=x_names)\n",
        "# X"
      ]
    },
    {
      "cell_type": "code",
      "source": [
        "train[['Piso','Número','Lado']] = train.Cabin.str.split(pat = '/', expand = True)\n",
        "train = train.drop(columns = 'Cabin')\n",
        "train.head(2)"
      ],
      "metadata": {
        "colab": {
          "base_uri": "https://localhost:8080/",
          "height": 143
        },
        "id": "yrQa9h0rEz24",
        "outputId": "bff1e891-a245-4c82-bc09-c177ea094202"
      },
      "execution_count": 105,
      "outputs": [
        {
          "output_type": "execute_result",
          "data": {
            "text/plain": [
              "            HomePlanet CryoSleep  Destination   Age    VIP  RoomService  \\\n",
              "PassengerId                                                               \n",
              "3430            Europa     False  TRAPPIST-1e  57.0  False          0.0   \n",
              "669               Mars      True          NaN  18.0  False          0.0   \n",
              "\n",
              "             FoodCourt  ShoppingMall    Spa  VRDeck            Name  \\\n",
              "PassengerId                                                           \n",
              "3430            3859.0          13.0  195.0  3874.0  Azhah Tronsive   \n",
              "669                0.0           0.0    0.0     0.0      Roswal Sha   \n",
              "\n",
              "             Transported Piso Número Lado  \n",
              "PassengerId                                \n",
              "3430                   0    C    123    P  \n",
              "669                    1    F    126    S  "
            ],
            "text/html": [
              "\n",
              "  <div id=\"df-27b88fe5-26b3-43c5-8011-ba38c3f93f92\">\n",
              "    <div class=\"colab-df-container\">\n",
              "      <div>\n",
              "<style scoped>\n",
              "    .dataframe tbody tr th:only-of-type {\n",
              "        vertical-align: middle;\n",
              "    }\n",
              "\n",
              "    .dataframe tbody tr th {\n",
              "        vertical-align: top;\n",
              "    }\n",
              "\n",
              "    .dataframe thead th {\n",
              "        text-align: right;\n",
              "    }\n",
              "</style>\n",
              "<table border=\"1\" class=\"dataframe\">\n",
              "  <thead>\n",
              "    <tr style=\"text-align: right;\">\n",
              "      <th></th>\n",
              "      <th>HomePlanet</th>\n",
              "      <th>CryoSleep</th>\n",
              "      <th>Destination</th>\n",
              "      <th>Age</th>\n",
              "      <th>VIP</th>\n",
              "      <th>RoomService</th>\n",
              "      <th>FoodCourt</th>\n",
              "      <th>ShoppingMall</th>\n",
              "      <th>Spa</th>\n",
              "      <th>VRDeck</th>\n",
              "      <th>Name</th>\n",
              "      <th>Transported</th>\n",
              "      <th>Piso</th>\n",
              "      <th>Número</th>\n",
              "      <th>Lado</th>\n",
              "    </tr>\n",
              "    <tr>\n",
              "      <th>PassengerId</th>\n",
              "      <th></th>\n",
              "      <th></th>\n",
              "      <th></th>\n",
              "      <th></th>\n",
              "      <th></th>\n",
              "      <th></th>\n",
              "      <th></th>\n",
              "      <th></th>\n",
              "      <th></th>\n",
              "      <th></th>\n",
              "      <th></th>\n",
              "      <th></th>\n",
              "      <th></th>\n",
              "      <th></th>\n",
              "      <th></th>\n",
              "    </tr>\n",
              "  </thead>\n",
              "  <tbody>\n",
              "    <tr>\n",
              "      <th>3430</th>\n",
              "      <td>Europa</td>\n",
              "      <td>False</td>\n",
              "      <td>TRAPPIST-1e</td>\n",
              "      <td>57.0</td>\n",
              "      <td>False</td>\n",
              "      <td>0.0</td>\n",
              "      <td>3859.0</td>\n",
              "      <td>13.0</td>\n",
              "      <td>195.0</td>\n",
              "      <td>3874.0</td>\n",
              "      <td>Azhah Tronsive</td>\n",
              "      <td>0</td>\n",
              "      <td>C</td>\n",
              "      <td>123</td>\n",
              "      <td>P</td>\n",
              "    </tr>\n",
              "    <tr>\n",
              "      <th>669</th>\n",
              "      <td>Mars</td>\n",
              "      <td>True</td>\n",
              "      <td>NaN</td>\n",
              "      <td>18.0</td>\n",
              "      <td>False</td>\n",
              "      <td>0.0</td>\n",
              "      <td>0.0</td>\n",
              "      <td>0.0</td>\n",
              "      <td>0.0</td>\n",
              "      <td>0.0</td>\n",
              "      <td>Roswal Sha</td>\n",
              "      <td>1</td>\n",
              "      <td>F</td>\n",
              "      <td>126</td>\n",
              "      <td>S</td>\n",
              "    </tr>\n",
              "  </tbody>\n",
              "</table>\n",
              "</div>\n",
              "      <button class=\"colab-df-convert\" onclick=\"convertToInteractive('df-27b88fe5-26b3-43c5-8011-ba38c3f93f92')\"\n",
              "              title=\"Convert this dataframe to an interactive table.\"\n",
              "              style=\"display:none;\">\n",
              "        \n",
              "  <svg xmlns=\"http://www.w3.org/2000/svg\" height=\"24px\"viewBox=\"0 0 24 24\"\n",
              "       width=\"24px\">\n",
              "    <path d=\"M0 0h24v24H0V0z\" fill=\"none\"/>\n",
              "    <path d=\"M18.56 5.44l.94 2.06.94-2.06 2.06-.94-2.06-.94-.94-2.06-.94 2.06-2.06.94zm-11 1L8.5 8.5l.94-2.06 2.06-.94-2.06-.94L8.5 2.5l-.94 2.06-2.06.94zm10 10l.94 2.06.94-2.06 2.06-.94-2.06-.94-.94-2.06-.94 2.06-2.06.94z\"/><path d=\"M17.41 7.96l-1.37-1.37c-.4-.4-.92-.59-1.43-.59-.52 0-1.04.2-1.43.59L10.3 9.45l-7.72 7.72c-.78.78-.78 2.05 0 2.83L4 21.41c.39.39.9.59 1.41.59.51 0 1.02-.2 1.41-.59l7.78-7.78 2.81-2.81c.8-.78.8-2.07 0-2.86zM5.41 20L4 18.59l7.72-7.72 1.47 1.35L5.41 20z\"/>\n",
              "  </svg>\n",
              "      </button>\n",
              "      \n",
              "  <style>\n",
              "    .colab-df-container {\n",
              "      display:flex;\n",
              "      flex-wrap:wrap;\n",
              "      gap: 12px;\n",
              "    }\n",
              "\n",
              "    .colab-df-convert {\n",
              "      background-color: #E8F0FE;\n",
              "      border: none;\n",
              "      border-radius: 50%;\n",
              "      cursor: pointer;\n",
              "      display: none;\n",
              "      fill: #1967D2;\n",
              "      height: 32px;\n",
              "      padding: 0 0 0 0;\n",
              "      width: 32px;\n",
              "    }\n",
              "\n",
              "    .colab-df-convert:hover {\n",
              "      background-color: #E2EBFA;\n",
              "      box-shadow: 0px 1px 2px rgba(60, 64, 67, 0.3), 0px 1px 3px 1px rgba(60, 64, 67, 0.15);\n",
              "      fill: #174EA6;\n",
              "    }\n",
              "\n",
              "    [theme=dark] .colab-df-convert {\n",
              "      background-color: #3B4455;\n",
              "      fill: #D2E3FC;\n",
              "    }\n",
              "\n",
              "    [theme=dark] .colab-df-convert:hover {\n",
              "      background-color: #434B5C;\n",
              "      box-shadow: 0px 1px 3px 1px rgba(0, 0, 0, 0.15);\n",
              "      filter: drop-shadow(0px 1px 2px rgba(0, 0, 0, 0.3));\n",
              "      fill: #FFFFFF;\n",
              "    }\n",
              "  </style>\n",
              "\n",
              "      <script>\n",
              "        const buttonEl =\n",
              "          document.querySelector('#df-27b88fe5-26b3-43c5-8011-ba38c3f93f92 button.colab-df-convert');\n",
              "        buttonEl.style.display =\n",
              "          google.colab.kernel.accessAllowed ? 'block' : 'none';\n",
              "\n",
              "        async function convertToInteractive(key) {\n",
              "          const element = document.querySelector('#df-27b88fe5-26b3-43c5-8011-ba38c3f93f92');\n",
              "          const dataTable =\n",
              "            await google.colab.kernel.invokeFunction('convertToInteractive',\n",
              "                                                     [key], {});\n",
              "          if (!dataTable) return;\n",
              "\n",
              "          const docLinkHtml = 'Like what you see? Visit the ' +\n",
              "            '<a target=\"_blank\" href=https://colab.research.google.com/notebooks/data_table.ipynb>data table notebook</a>'\n",
              "            + ' to learn more about interactive tables.';\n",
              "          element.innerHTML = '';\n",
              "          dataTable['output_type'] = 'display_data';\n",
              "          await google.colab.output.renderOutput(dataTable, element);\n",
              "          const docLink = document.createElement('div');\n",
              "          docLink.innerHTML = docLinkHtml;\n",
              "          element.appendChild(docLink);\n",
              "        }\n",
              "      </script>\n",
              "    </div>\n",
              "  </div>\n",
              "  "
            ]
          },
          "metadata": {},
          "execution_count": 105
        }
      ]
    },
    {
      "cell_type": "code",
      "source": [
        "features = ['Piso', 'Lado']\n",
        "plt.figure(figsize = (20, 40))\n",
        "for i in enumerate(features):\n",
        "    plt.subplot(6, 2,i[0]+1)\n",
        "    sns.countplot(x=i[1], data = train, hue='Transported')"
      ],
      "metadata": {
        "colab": {
          "base_uri": "https://localhost:8080/",
          "height": 373
        },
        "id": "znjlSNLVF1ko",
        "outputId": "f3cf9e90-9a33-4153-a1be-f9b73dc3c2c7"
      },
      "execution_count": 106,
      "outputs": [
        {
          "output_type": "display_data",
          "data": {
            "text/plain": [
              "<Figure size 1440x2880 with 2 Axes>"
            ],
            "image/png": "[encoded data removed]"
          },
          "metadata": {
            "needs_background": "light"
          }
        }
      ]
    },
    {
      "cell_type": "markdown",
      "source": [
        "Podemos observar que el pasajero tiene mas probabilidad de ser transportado si esta del lado \"S\" (estribor) que si esta del lado \"P\" (Vabor). "
      ],
      "metadata": {
        "id": "Bc13hzudGW5M"
      }
    },
    {
      "cell_type": "markdown",
      "metadata": {
        "id": "hv57Y7engjMk"
      },
      "source": [
        "# **Planteo de modelos**\n",
        "\n",
        "Tienen que elegir los 2 mejores modelos así que prueben con varios."
      ]
    },
    {
      "cell_type": "code",
      "source": [
        "#División entrenamiento - testeo\n",
        "x_train, x_test, y_train, y_test = train_test_split(X, y, train_size=0.8, random_state = 8)"
      ],
      "metadata": {
        "id": "djiw6Vyv8XTC"
      },
      "execution_count": 44,
      "outputs": []
    },
    {
      "cell_type": "code",
      "execution_count": 9,
      "metadata": {
        "colab": {
          "base_uri": "https://localhost:8080/"
        },
        "id": "cBjJNfmagjMk",
        "outputId": "4e88ec15-1c62-4d97-c015-08881dcd0c7e"
      },
      "outputs": [
        {
          "output_type": "stream",
          "name": "stdout",
          "text": [
            "Árbol de decisión\n",
            "Accuracy train Árbol de decisión: 93.90%\n",
            "Accuracy test {name}: 72.72%\n"
          ]
        }
      ],
      "source": [
        "clfs = [DecisionTreeClassifier()]\n",
        "names = ['Árbol de decisión']\n",
        "\n",
        "trained_models = []\n",
        "accuracy_models = []\n",
        "for clf,name in zip(clfs,names):\n",
        "    print(name)\n",
        "    clf.fit(x_train, y_train)\n",
        "    train_predictions = clf.predict(x_train)\n",
        "    accuracy = accuracy_score(y_train, train_predictions)\n",
        "    print(f\"Accuracy train {name}: %.2f%%\" % (accuracy * 100.0))\n",
        "\n",
        "    train_predictions = clf.predict(x_test)\n",
        "    accuracy = accuracy_score(y_test, train_predictions)\n",
        "    print(\"Accuracy test {name}: %.2f%%\" % (accuracy * 100.0))\n",
        "    # plot_confusion_matrix(clf,x_test,y_test)\n",
        "    trained_models.append(clf)\n",
        "    accuracy_models.append(accuracy*100)"
      ]
    },
    {
      "cell_type": "markdown",
      "metadata": {
        "id": "K6ssxtP7gjMl"
      },
      "source": [
        "### **Ajuste de hiperparámetros de los modelos elegidos**"
      ]
    },
    {
      "cell_type": "code",
      "execution_count": 30,
      "metadata": {
        "colab": {
          "base_uri": "https://localhost:8080/"
        },
        "id": "_007LK5MgjMl",
        "outputId": "f1640833-64e1-4f26-b8d6-dcb48ac543a4"
      },
      "outputs": [
        {
          "output_type": "execute_result",
          "data": {
            "text/plain": [
              "{'criterion': 'entropy', 'max_depth': 10, 'splitter': 'best'}"
            ]
          },
          "metadata": {},
          "execution_count": 30
        }
      ],
      "source": [
        "grid = GridSearchCV(DecisionTreeClassifier(),\n",
        " {'criterion':('gini','entropy'),\n",
        " 'splitter':(\"best\",\"random\"),\n",
        " 'max_depth':(10,20,100)})\n",
        "grid.fit(x_train,y_train)\n",
        "grid.best_params_"
      ]
    },
    {
      "cell_type": "code",
      "execution_count": 31,
      "metadata": {
        "colab": {
          "base_uri": "https://localhost:8080/",
          "height": 470
        },
        "id": "pZPlnadfgjMm",
        "outputId": "7ec2a69d-24b8-44b9-8679-6454dbc44245"
      },
      "outputs": [
        {
          "output_type": "stream",
          "name": "stdout",
          "text": [
            "Accuracy train Arbol de decisión: 81.88%\n",
            "Accuracy test Arbol de decisión: 76.29%\n"
          ]
        },
        {
          "output_type": "display_data",
          "data": {
            "text/plain": [
              "<Figure size 432x288 with 2 Axes>"
            ],
            "image/png": "[encoded data removed]"
          },
          "metadata": {
            "needs_background": "light"
          }
        },
        {
          "output_type": "stream",
          "name": "stdout",
          "text": [
            "              precision    recall  f1-score   support\n",
            "\n",
            "           0       0.74      0.78      0.76       748\n",
            "           1       0.79      0.75      0.77       817\n",
            "\n",
            "    accuracy                           0.76      1565\n",
            "   macro avg       0.76      0.76      0.76      1565\n",
            "weighted avg       0.76      0.76      0.76      1565\n",
            "\n"
          ]
        }
      ],
      "source": [
        "clf = DecisionTreeClassifier(**grid.best_params_).fit(x_train, y_train)\n",
        "\n",
        "train_predictions = clf.predict(x_train)\n",
        "accuracy = accuracy_score(y_train, train_predictions)\n",
        "print(\"Accuracy train Arbol de decisión: %.2f%%\" % (accuracy * 100.0))\n",
        "\n",
        "test_predictions = clf.predict(x_test)\n",
        "accuracy = accuracy_score(y_test, test_predictions)\n",
        "print(\"Accuracy test Arbol de decisión: %.2f%%\" % (accuracy * 100.0))\n",
        "ConfusionMatrixDisplay.from_predictions(y_test, test_predictions)\n",
        "plt.show()\n",
        "\n",
        "print(classification_report(y_test,clf.predict(x_test)))"
      ]
    },
    {
      "cell_type": "code",
      "execution_count": 32,
      "metadata": {
        "colab": {
          "base_uri": "https://localhost:8080/"
        },
        "id": "Bx1WsWMqgjMm",
        "outputId": "84b1fe11-974c-4107-ea69-14b3d3f4baae"
      },
      "outputs": [
        {
          "output_type": "stream",
          "name": "stdout",
          "text": [
            "DecisionTreeClassifier(criterion='entropy', max_depth=10)\n",
            "Precisión test fold 0: 78.67\n",
            "Precisión test fold 1: 77.80\n",
            "Precisión test fold 2: 78.04\n",
            "Precisión test fold 3: 77.54\n",
            "Precisión test fold 4: 76.58\n",
            "Avg. accuracy = 77.72429979339212\n"
          ]
        }
      ],
      "source": [
        "FOLDS=5\n",
        "cv = StratifiedKFold(n_splits=FOLDS, shuffle=True, random_state=10)\n",
        "\n",
        "x_train2 = np.array(x_train)\n",
        "y_train2 = np.array(y_train)\n",
        "\n",
        "\n",
        "for clfi, name in zip([DecisionTreeClassifier(**grid.best_params_)],names):\n",
        "    print(clfi)\n",
        "    avg_accuracy = 0\n",
        "    for fold, (train_idx, val_idx) in enumerate(cv.split(x_train2, y_train2)):\n",
        "        xi, yi = x_train2[train_idx], y_train2[train_idx]\n",
        "        x_valid, y_valid = x_train2[val_idx], y_train2[val_idx]\n",
        "        clfi = clfi.fit(xi, yi)\n",
        "\n",
        "        test_predictions = clfi.predict(x_valid)\n",
        "        accuracy = accuracy_score(y_valid, test_predictions)\n",
        "        avg_accuracy +=accuracy\n",
        "        print(f\"Precisión test fold {fold}: {accuracy * 100.0 :.2f}\" % ())\n",
        "\n",
        "    avg_accuracy /= FOLDS\n",
        "    print(f'Avg. accuracy = {avg_accuracy * 100}')"
      ]
    },
    {
      "cell_type": "markdown",
      "metadata": {
        "id": "j-k-XAbFgjMn"
      },
      "source": [
        "# **Generar la salida para entregar**"
      ]
    },
    {
      "cell_type": "code",
      "execution_count": 33,
      "metadata": {
        "id": "jDWmf4F4gjMn"
      },
      "outputs": [],
      "source": [
        "test_df = pd.read_csv('https://raw.githubusercontent.com/CHRISTIANDAGATTI/A.Supervisado---Grupo9/main/test.csv')"
      ]
    },
    {
      "cell_type": "code",
      "execution_count": 34,
      "metadata": {
        "colab": {
          "base_uri": "https://localhost:8080/",
          "height": 424
        },
        "id": "a_AEpTzfgjMn",
        "outputId": "97a85b60-c8d3-4fec-d2c7-9a2b155836e1"
      },
      "outputs": [
        {
          "output_type": "execute_result",
          "data": {
            "text/plain": [
              "     PassengerId HomePlanet CryoSleep     Cabin    Destination   Age    VIP  \\\n",
              "0            415     Europa      True       NaN    55 Cancri e  34.0  False   \n",
              "1           8663      Earth      True  G/1489/S  PSO J318.5-22  13.0  False   \n",
              "2           4524      Earth     False   G/776/P    TRAPPIST-1e  44.0  False   \n",
              "3           8246      Earth     False   E/577/S  PSO J318.5-22  63.0  False   \n",
              "4           2935     Europa     False   B/117/S    55 Cancri e  10.0  False   \n",
              "..           ...        ...       ...       ...            ...   ...    ...   \n",
              "865         5996       Mars     False  F/1212/S    TRAPPIST-1e  54.0  False   \n",
              "866         5478      Earth      True   G/947/S    TRAPPIST-1e  58.0  False   \n",
              "867         6760      Earth      True  G/1148/P  PSO J318.5-22  18.0  False   \n",
              "868         1437      Earth     False   F/293/S    TRAPPIST-1e  18.0  False   \n",
              "869         5171      Earth     False  F/1059/S    TRAPPIST-1e  20.0  False   \n",
              "\n",
              "     RoomService  FoodCourt  ShoppingMall    Spa  VRDeck                Name  \n",
              "0            0.0        0.0           0.0    0.0     0.0  Minopus Taptiritty  \n",
              "1            0.0        0.0           0.0    0.0     0.0     Chrisa Francock  \n",
              "2           22.0        1.0           0.0  864.0     0.0        Elinda Miley  \n",
              "3            0.0        0.0          80.0    0.0  2322.0        Karley Goods  \n",
              "4            0.0        0.0           0.0    0.0     0.0   Arkard Sechausive  \n",
              "..           ...        ...           ...    ...     ...                 ...  \n",
              "865        676.0        0.0         231.0  379.0     0.0          Anch Perta  \n",
              "866          0.0        0.0           0.0    0.0     0.0        Hughy Hessey  \n",
              "867          0.0        0.0           0.0    0.0     0.0      Heidie Kimpson  \n",
              "868        765.0        0.0          13.0    0.0     0.0      Herina Oconley  \n",
              "869          0.0        0.0           0.0  703.0     0.0    Ollip Hinglendez  \n",
              "\n",
              "[870 rows x 13 columns]"
            ],
            "text/html": [
              "\n",
              "  <div id=\"df-cd0df223-efd4-43d4-b651-8e64760aa93a\">\n",
              "    <div class=\"colab-df-container\">\n",
              "      <div>\n",
              "<style scoped>\n",
              "    .dataframe tbody tr th:only-of-type {\n",
              "        vertical-align: middle;\n",
              "    }\n",
              "\n",
              "    .dataframe tbody tr th {\n",
              "        vertical-align: top;\n",
              "    }\n",
              "\n",
              "    .dataframe thead th {\n",
              "        text-align: right;\n",
              "    }\n",
              "</style>\n",
              "<table border=\"1\" class=\"dataframe\">\n",
              "  <thead>\n",
              "    <tr style=\"text-align: right;\">\n",
              "      <th></th>\n",
              "      <th>PassengerId</th>\n",
              "      <th>HomePlanet</th>\n",
              "      <th>CryoSleep</th>\n",
              "      <th>Cabin</th>\n",
              "      <th>Destination</th>\n",
              "      <th>Age</th>\n",
              "      <th>VIP</th>\n",
              "      <th>RoomService</th>\n",
              "      <th>FoodCourt</th>\n",
              "      <th>ShoppingMall</th>\n",
              "      <th>Spa</th>\n",
              "      <th>VRDeck</th>\n",
              "      <th>Name</th>\n",
              "    </tr>\n",
              "  </thead>\n",
              "  <tbody>\n",
              "    <tr>\n",
              "      <th>0</th>\n",
              "      <td>415</td>\n",
              "      <td>Europa</td>\n",
              "      <td>True</td>\n",
              "      <td>NaN</td>\n",
              "      <td>55 Cancri e</td>\n",
              "      <td>34.0</td>\n",
              "      <td>False</td>\n",
              "      <td>0.0</td>\n",
              "      <td>0.0</td>\n",
              "      <td>0.0</td>\n",
              "      <td>0.0</td>\n",
              "      <td>0.0</td>\n",
              "      <td>Minopus Taptiritty</td>\n",
              "    </tr>\n",
              "    <tr>\n",
              "      <th>1</th>\n",
              "      <td>8663</td>\n",
              "      <td>Earth</td>\n",
              "      <td>True</td>\n",
              "      <td>G/1489/S</td>\n",
              "      <td>PSO J318.5-22</td>\n",
              "      <td>13.0</td>\n",
              "      <td>False</td>\n",
              "      <td>0.0</td>\n",
              "      <td>0.0</td>\n",
              "      <td>0.0</td>\n",
              "      <td>0.0</td>\n",
              "      <td>0.0</td>\n",
              "      <td>Chrisa Francock</td>\n",
              "    </tr>\n",
              "    <tr>\n",
              "      <th>2</th>\n",
              "      <td>4524</td>\n",
              "      <td>Earth</td>\n",
              "      <td>False</td>\n",
              "      <td>G/776/P</td>\n",
              "      <td>TRAPPIST-1e</td>\n",
              "      <td>44.0</td>\n",
              "      <td>False</td>\n",
              "      <td>22.0</td>\n",
              "      <td>1.0</td>\n",
              "      <td>0.0</td>\n",
              "      <td>864.0</td>\n",
              "      <td>0.0</td>\n",
              "      <td>Elinda Miley</td>\n",
              "    </tr>\n",
              "    <tr>\n",
              "      <th>3</th>\n",
              "      <td>8246</td>\n",
              "      <td>Earth</td>\n",
              "      <td>False</td>\n",
              "      <td>E/577/S</td>\n",
              "      <td>PSO J318.5-22</td>\n",
              "      <td>63.0</td>\n",
              "      <td>False</td>\n",
              "      <td>0.0</td>\n",
              "      <td>0.0</td>\n",
              "      <td>80.0</td>\n",
              "      <td>0.0</td>\n",
              "      <td>2322.0</td>\n",
              "      <td>Karley Goods</td>\n",
              "    </tr>\n",
              "    <tr>\n",
              "      <th>4</th>\n",
              "      <td>2935</td>\n",
              "      <td>Europa</td>\n",
              "      <td>False</td>\n",
              "      <td>B/117/S</td>\n",
              "      <td>55 Cancri e</td>\n",
              "      <td>10.0</td>\n",
              "      <td>False</td>\n",
              "      <td>0.0</td>\n",
              "      <td>0.0</td>\n",
              "      <td>0.0</td>\n",
              "      <td>0.0</td>\n",
              "      <td>0.0</td>\n",
              "      <td>Arkard Sechausive</td>\n",
              "    </tr>\n",
              "    <tr>\n",
              "      <th>...</th>\n",
              "      <td>...</td>\n",
              "      <td>...</td>\n",
              "      <td>...</td>\n",
              "      <td>...</td>\n",
              "      <td>...</td>\n",
              "      <td>...</td>\n",
              "      <td>...</td>\n",
              "      <td>...</td>\n",
              "      <td>...</td>\n",
              "      <td>...</td>\n",
              "      <td>...</td>\n",
              "      <td>...</td>\n",
              "      <td>...</td>\n",
              "    </tr>\n",
              "    <tr>\n",
              "      <th>865</th>\n",
              "      <td>5996</td>\n",
              "      <td>Mars</td>\n",
              "      <td>False</td>\n",
              "      <td>F/1212/S</td>\n",
              "      <td>TRAPPIST-1e</td>\n",
              "      <td>54.0</td>\n",
              "      <td>False</td>\n",
              "      <td>676.0</td>\n",
              "      <td>0.0</td>\n",
              "      <td>231.0</td>\n",
              "      <td>379.0</td>\n",
              "      <td>0.0</td>\n",
              "      <td>Anch Perta</td>\n",
              "    </tr>\n",
              "    <tr>\n",
              "      <th>866</th>\n",
              "      <td>5478</td>\n",
              "      <td>Earth</td>\n",
              "      <td>True</td>\n",
              "      <td>G/947/S</td>\n",
              "      <td>TRAPPIST-1e</td>\n",
              "      <td>58.0</td>\n",
              "      <td>False</td>\n",
              "      <td>0.0</td>\n",
              "      <td>0.0</td>\n",
              "      <td>0.0</td>\n",
              "      <td>0.0</td>\n",
              "      <td>0.0</td>\n",
              "      <td>Hughy Hessey</td>\n",
              "    </tr>\n",
              "    <tr>\n",
              "      <th>867</th>\n",
              "      <td>6760</td>\n",
              "      <td>Earth</td>\n",
              "      <td>True</td>\n",
              "      <td>G/1148/P</td>\n",
              "      <td>PSO J318.5-22</td>\n",
              "      <td>18.0</td>\n",
              "      <td>False</td>\n",
              "      <td>0.0</td>\n",
              "      <td>0.0</td>\n",
              "      <td>0.0</td>\n",
              "      <td>0.0</td>\n",
              "      <td>0.0</td>\n",
              "      <td>Heidie Kimpson</td>\n",
              "    </tr>\n",
              "    <tr>\n",
              "      <th>868</th>\n",
              "      <td>1437</td>\n",
              "      <td>Earth</td>\n",
              "      <td>False</td>\n",
              "      <td>F/293/S</td>\n",
              "      <td>TRAPPIST-1e</td>\n",
              "      <td>18.0</td>\n",
              "      <td>False</td>\n",
              "      <td>765.0</td>\n",
              "      <td>0.0</td>\n",
              "      <td>13.0</td>\n",
              "      <td>0.0</td>\n",
              "      <td>0.0</td>\n",
              "      <td>Herina Oconley</td>\n",
              "    </tr>\n",
              "    <tr>\n",
              "      <th>869</th>\n",
              "      <td>5171</td>\n",
              "      <td>Earth</td>\n",
              "      <td>False</td>\n",
              "      <td>F/1059/S</td>\n",
              "      <td>TRAPPIST-1e</td>\n",
              "      <td>20.0</td>\n",
              "      <td>False</td>\n",
              "      <td>0.0</td>\n",
              "      <td>0.0</td>\n",
              "      <td>0.0</td>\n",
              "      <td>703.0</td>\n",
              "      <td>0.0</td>\n",
              "      <td>Ollip Hinglendez</td>\n",
              "    </tr>\n",
              "  </tbody>\n",
              "</table>\n",
              "<p>870 rows × 13 columns</p>\n",
              "</div>\n",
              "      <button class=\"colab-df-convert\" onclick=\"convertToInteractive('df-cd0df223-efd4-43d4-b651-8e64760aa93a')\"\n",
              "              title=\"Convert this dataframe to an interactive table.\"\n",
              "              style=\"display:none;\">\n",
              "        \n",
              "  <svg xmlns=\"http://www.w3.org/2000/svg\" height=\"24px\"viewBox=\"0 0 24 24\"\n",
              "       width=\"24px\">\n",
              "    <path d=\"M0 0h24v24H0V0z\" fill=\"none\"/>\n",
              "    <path d=\"M18.56 5.44l.94 2.06.94-2.06 2.06-.94-2.06-.94-.94-2.06-.94 2.06-2.06.94zm-11 1L8.5 8.5l.94-2.06 2.06-.94-2.06-.94L8.5 2.5l-.94 2.06-2.06.94zm10 10l.94 2.06.94-2.06 2.06-.94-2.06-.94-.94-2.06-.94 2.06-2.06.94z\"/><path d=\"M17.41 7.96l-1.37-1.37c-.4-.4-.92-.59-1.43-.59-.52 0-1.04.2-1.43.59L10.3 9.45l-7.72 7.72c-.78.78-.78 2.05 0 2.83L4 21.41c.39.39.9.59 1.41.59.51 0 1.02-.2 1.41-.59l7.78-7.78 2.81-2.81c.8-.78.8-2.07 0-2.86zM5.41 20L4 18.59l7.72-7.72 1.47 1.35L5.41 20z\"/>\n",
              "  </svg>\n",
              "      </button>\n",
              "      \n",
              "  <style>\n",
              "    .colab-df-container {\n",
              "      display:flex;\n",
              "      flex-wrap:wrap;\n",
              "      gap: 12px;\n",
              "    }\n",
              "\n",
              "    .colab-df-convert {\n",
              "      background-color: #E8F0FE;\n",
              "      border: none;\n",
              "      border-radius: 50%;\n",
              "      cursor: pointer;\n",
              "      display: none;\n",
              "      fill: #1967D2;\n",
              "      height: 32px;\n",
              "      padding: 0 0 0 0;\n",
              "      width: 32px;\n",
              "    }\n",
              "\n",
              "    .colab-df-convert:hover {\n",
              "      background-color: #E2EBFA;\n",
              "      box-shadow: 0px 1px 2px rgba(60, 64, 67, 0.3), 0px 1px 3px 1px rgba(60, 64, 67, 0.15);\n",
              "      fill: #174EA6;\n",
              "    }\n",
              "\n",
              "    [theme=dark] .colab-df-convert {\n",
              "      background-color: #3B4455;\n",
              "      fill: #D2E3FC;\n",
              "    }\n",
              "\n",
              "    [theme=dark] .colab-df-convert:hover {\n",
              "      background-color: #434B5C;\n",
              "      box-shadow: 0px 1px 3px 1px rgba(0, 0, 0, 0.15);\n",
              "      filter: drop-shadow(0px 1px 2px rgba(0, 0, 0, 0.3));\n",
              "      fill: #FFFFFF;\n",
              "    }\n",
              "  </style>\n",
              "\n",
              "      <script>\n",
              "        const buttonEl =\n",
              "          document.querySelector('#df-cd0df223-efd4-43d4-b651-8e64760aa93a button.colab-df-convert');\n",
              "        buttonEl.style.display =\n",
              "          google.colab.kernel.accessAllowed ? 'block' : 'none';\n",
              "\n",
              "        async function convertToInteractive(key) {\n",
              "          const element = document.querySelector('#df-cd0df223-efd4-43d4-b651-8e64760aa93a');\n",
              "          const dataTable =\n",
              "            await google.colab.kernel.invokeFunction('convertToInteractive',\n",
              "                                                     [key], {});\n",
              "          if (!dataTable) return;\n",
              "\n",
              "          const docLinkHtml = 'Like what you see? Visit the ' +\n",
              "            '<a target=\"_blank\" href=https://colab.research.google.com/notebooks/data_table.ipynb>data table notebook</a>'\n",
              "            + ' to learn more about interactive tables.';\n",
              "          element.innerHTML = '';\n",
              "          dataTable['output_type'] = 'display_data';\n",
              "          await google.colab.output.renderOutput(dataTable, element);\n",
              "          const docLink = document.createElement('div');\n",
              "          docLink.innerHTML = docLinkHtml;\n",
              "          element.appendChild(docLink);\n",
              "        }\n",
              "      </script>\n",
              "    </div>\n",
              "  </div>\n",
              "  "
            ]
          },
          "metadata": {},
          "execution_count": 34
        }
      ],
      "source": [
        "test_df"
      ]
    },
    {
      "cell_type": "markdown",
      "metadata": {
        "id": "hc20NVzIgjMo"
      },
      "source": [
        "Para poder evaluar nuestra predicción los datos de prueba deben tener exactamente el mismo tratamiento que los datos de entrenamiento"
      ]
    },
    {
      "cell_type": "code",
      "execution_count": 35,
      "metadata": {
        "id": "i4YkbKZhgjMo"
      },
      "outputs": [],
      "source": [
        "test_df[imputer_cols] = imputer.fit_transform(test_df[imputer_cols])\n",
        "\n",
        "PassengerId = test_df['PassengerId']\n",
        "test_df.drop(['PassengerId','Cabin', 'Name'], inplace=True, axis=1)\n",
        "\n",
        "for col in label_cols:\n",
        "    test_df[col] = test_df[col].astype(str)\n",
        "    test_df[col] = LabelEncoder().fit_transform(test_df[col])\n",
        "\n",
        "cols = test_df.columns\n",
        "test_df = StandardScaler().fit_transform(test_df)\n",
        "test_df = pd.DataFrame(test_df, columns=cols)"
      ]
    },
    {
      "cell_type": "markdown",
      "metadata": {
        "id": "3CyCExT0gjMo"
      },
      "source": [
        "Generamos la salida"
      ]
    },
    {
      "cell_type": "code",
      "execution_count": 36,
      "metadata": {
        "id": "HI2jI4ZSgjMo"
      },
      "outputs": [],
      "source": [
        "test_id = PassengerId\n",
        "test_pred = clf.predict(test_df)\n"
      ]
    },
    {
      "cell_type": "code",
      "execution_count": 37,
      "metadata": {
        "id": "pB1ai_gBgjMp"
      },
      "outputs": [],
      "source": [
        "submission = pd.DataFrame(list(zip(test_id, test_pred)), columns=[\"PassengerId\", \"Transported\"])\n",
        "submission.to_csv(\"sample_submission.csv\", header=True, index=False)"
      ]
    }
  ],
  "metadata": {
    "kernelspec": {
      "display_name": "Python 3.9.13 ('diplodatos')",
      "language": "python",
      "name": "python3"
    },
    "language_info": {
      "codemirror_mode": {
        "name": "ipython",
        "version": 3
      },
      "file_extension": ".py",
      "mimetype": "text/x-python",
      "name": "python",
      "nbconvert_exporter": "python",
      "pygments_lexer": "ipython3",
      "version": "3.9.13"
    },
    "orig_nbformat": 4,
    "vscode": {
      "interpreter": {
        "hash": "e6b65fc4380ac725e50a330b268a227bbdbe91bddfffbf68e5f7ce9848a2b8d5"
      }
    },
    "colab": {
      "name": "baseline.ipynb",
      "provenance": [],
      "collapsed_sections": [],
      "toc_visible": true,
      "include_colab_link": true
    }
  },
  "nbformat": 4,
  "nbformat_minor": 0
}